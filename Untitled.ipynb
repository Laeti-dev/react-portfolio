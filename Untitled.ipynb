{
 "cells": [
  {
   "cell_type": "code",
   "execution_count": 1,
   "id": "83a7c701",
   "metadata": {},
   "outputs": [],
   "source": [
    "import random"
   ]
  },
  {
   "cell_type": "code",
   "execution_count": 12,
   "id": "acad3aa1",
   "metadata": {},
   "outputs": [],
   "source": [
    "def jeuA():\n",
    "    if random.uniform(0,1) <= 0.49:\n",
    "        return 'pile'\n",
    "    else:\n",
    "        return 'face'\n",
    "    \n",
    "def jeuB1():\n",
    "    if random.uniform(0,1) <= 0.09:\n",
    "        return 'pile'\n",
    "    else:\n",
    "        return 'false'\n",
    "\n",
    "def jeuB2():\n",
    "    if random.uniform(0,1) <= 0.74:\n",
    "        return 'pile'\n",
    "    else:\n",
    "        return 'false'"
   ]
  },
  {
   "cell_type": "code",
   "execution_count": 34,
   "id": "837afaef",
   "metadata": {},
   "outputs": [
    {
     "name": "stdout",
     "output_type": "stream",
     "text": [
      "nombre de lances:  370 capital final:  978\n"
     ]
    }
   ],
   "source": [
    "capital = 1000\n",
    "lances = 370\n",
    "\n",
    "for n in range(lances):\n",
    "    piece = jeuA()\n",
    "    if piece == 'pile':\n",
    "        capital += 1\n",
    "    else:\n",
    "        capital -= 1\n",
    "        \n",
    "print(\"nombre de lances: \", lances, \"capital final: \", capital)"
   ]
  },
  {
   "cell_type": "code",
   "execution_count": 38,
   "id": "4b61f112",
   "metadata": {},
   "outputs": [
    {
     "name": "stdout",
     "output_type": "stream",
     "text": [
      "nombres de lances:  50000 capital total:  166\n"
     ]
    }
   ],
   "source": [
    "capital = 1000\n",
    "lances = 50000\n",
    "\n",
    "for n in range(lances):\n",
    "    if capital%3 == 0:\n",
    "        piece = jeuB1()\n",
    "        if piece == 'pile':\n",
    "            capital += 1\n",
    "        else:\n",
    "            capital -= 1\n",
    "    else:\n",
    "        piece = jeuB2()\n",
    "        if piece == 'pile':\n",
    "            capital += 1\n",
    "        else:\n",
    "            capital -= 1\n",
    "            \n",
    "print(\"nombres de lances: \", lances, \"capital total: \", capital)"
   ]
  },
  {
   "cell_type": "code",
   "execution_count": null,
   "id": "3199c41f",
   "metadata": {},
   "outputs": [],
   "source": []
  }
 ],
 "metadata": {
  "kernelspec": {
   "display_name": "Python 3 (ipykernel)",
   "language": "python",
   "name": "python3"
  },
  "language_info": {
   "codemirror_mode": {
    "name": "ipython",
    "version": 3
   },
   "file_extension": ".py",
   "mimetype": "text/x-python",
   "name": "python",
   "nbconvert_exporter": "python",
   "pygments_lexer": "ipython3",
   "version": "3.9.13"
  }
 },
 "nbformat": 4,
 "nbformat_minor": 5
}
